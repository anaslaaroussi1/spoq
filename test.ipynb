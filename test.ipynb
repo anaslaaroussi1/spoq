{
 "cells": [
  {
   "cell_type": "code",
   "execution_count": 5,
   "metadata": {},
   "outputs": [
    {
     "name": "stdout",
     "output_type": "stream",
     "text": [
      "[3 2 2]\n",
      "4\n",
      "[8 5 5]\n"
     ]
    }
   ],
   "source": [
    "import numpy as np\n",
    "\n",
    "\n",
    "X = np.array([2,1,1])\n",
    "print(X + 1)\n",
    "print(np.sum(X))\n",
    "print(X**2 + 2**2)"
   ]
  },
  {
   "cell_type": "code",
   "execution_count": 12,
   "metadata": {},
   "outputs": [
    {
     "name": "stdout",
     "output_type": "stream",
     "text": [
      "[[4 1 2]\n",
      " [6 7 3]]\n",
      "[[14  1  2]\n",
      " [16 17  3]]\n",
      "(2, 3)\n",
      "2 3\n"
     ]
    }
   ],
   "source": [
    "X = np.array([[4,1,2],[6,7,3]])\n",
    "print(X)\n",
    "X[X>3] += 10\n",
    "print(X)\n",
    "print(X.shape)\n",
    "M, N = X.shape\n",
    "print(M,N)"
   ]
  },
  {
   "cell_type": "code",
   "execution_count": 21,
   "metadata": {},
   "outputs": [
    {
     "name": "stdout",
     "output_type": "stream",
     "text": [
      "(1000, 1000)\n"
     ]
    }
   ],
   "source": [
    "with open(\"data/K\",\"r\") as f:\n",
    "    K = f.readlines()\n",
    "    K = np.array([x[:-1].split() for x in K],dtype=float)\n",
    "    \n",
    "print(K.shape)"
   ]
  },
  {
   "cell_type": "code",
   "execution_count": 24,
   "metadata": {},
   "outputs": [
    {
     "name": "stdout",
     "output_type": "stream",
     "text": [
      "7.533276666586115\n"
     ]
    }
   ],
   "source": [
    "import numpy as np\n",
    "import math\n",
    "xk = np.array([1,2,3])\n",
    "xtrue = np.array([0,1,4])\n",
    "print(-10*math.log10(np.sum((xk-xtrue)**2) / np.sum(xtrue**2)))"
   ]
  }
 ],
 "metadata": {
  "kernelspec": {
   "display_name": "Python 3",
   "language": "python",
   "name": "python3"
  },
  "language_info": {
   "codemirror_mode": {
    "name": "ipython",
    "version": 3
   },
   "file_extension": ".py",
   "mimetype": "text/x-python",
   "name": "python",
   "nbconvert_exporter": "python",
   "pygments_lexer": "ipython3",
   "version": "3.8.3"
  }
 },
 "nbformat": 4,
 "nbformat_minor": 4
}
